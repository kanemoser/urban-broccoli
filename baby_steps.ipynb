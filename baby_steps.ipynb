{
 "cells": [
  {
   "cell_type": "code",
   "execution_count": 16,
   "metadata": {},
   "outputs": [
    {
     "name": "stdout",
     "output_type": "stream",
     "text": [
      "3\n"
     ]
    }
   ],
   "source": [
    "# Variables\n",
    "\n",
    "a = 2\n",
    "a = a + 1\n",
    "print(a)"
   ]
  },
  {
   "cell_type": "code",
   "execution_count": 17,
   "metadata": {},
   "outputs": [
    {
     "name": "stdout",
     "output_type": "stream",
     "text": [
      "3\n"
     ]
    }
   ],
   "source": [
    "print(a)# variables are shared between cells"
   ]
  },
  {
   "cell_type": "code",
   "execution_count": 18,
   "metadata": {},
   "outputs": [],
   "source": [
    "a = a + 5"
   ]
  },
  {
   "cell_type": "code",
   "execution_count": 19,
   "metadata": {},
   "outputs": [
    {
     "name": "stdout",
     "output_type": "stream",
     "text": [
      "8\n"
     ]
    }
   ],
   "source": [
    "print(a)"
   ]
  },
  {
   "cell_type": "code",
   "execution_count": 28,
   "metadata": {},
   "outputs": [
    {
     "name": "stdout",
     "output_type": "stream",
     "text": [
      "0\n",
      "haha\n",
      "1\n",
      "haha\n",
      "2\n",
      "haha\n",
      "3\n",
      "haha\n",
      "4\n",
      "haha\n",
      "lol\n"
     ]
    }
   ],
   "source": [
    "# Loops\n",
    "\n",
    "for i in range(5):\n",
    "    print(i)\n",
    "    print('haha') # this is in the loop\n",
    "print('lol') # this line is not in the loop   \n",
    "\n",
    "# Learning points:\n",
    "# 1) that is how you do a for-loop. Pay attention to the colon.\n",
    "# 2) The inside of the loop is marked by indentation. Everything that is indented gets looped.\n",
    "# 3) Once you go back to previous indentation the loop is over.\n",
    "# 4) Python is a zero-indexed language (the list goes from 0-4 in a 5-number range)"
   ]
  },
  {
   "cell_type": "code",
   "execution_count": 34,
   "metadata": {},
   "outputs": [
    {
     "name": "stdout",
     "output_type": "stream",
     "text": [
      "[2, 4, 8]\n",
      "Zeroeth element: 2\n",
      "First element: 4\n"
     ]
    }
   ],
   "source": [
    "# Lists\n",
    "\n",
    "b = [2,4,8]\n",
    "print(b)\n",
    "\n",
    "# access elements of the list:\n",
    "print(('Zeroeth element:'),b[0]) # zeroeth element of the list is 2\n",
    "print(('First element:'),b[1]) # first element of the list is 4\n"
   ]
  },
  {
   "cell_type": "code",
   "execution_count": 35,
   "metadata": {},
   "outputs": [
    {
     "name": "stdout",
     "output_type": "stream",
     "text": [
      "2\n",
      "4\n",
      "8\n"
     ]
    }
   ],
   "source": [
    "# Combine loops and lists\n",
    "\n",
    "for i in b:\n",
    "    print(i)"
   ]
  },
  {
   "cell_type": "code",
   "execution_count": 39,
   "metadata": {},
   "outputs": [
    {
     "ename": "SyntaxError",
     "evalue": "invalid syntax (<ipython-input-39-b266e21a78a3>, line 4)",
     "output_type": "error",
     "traceback": [
      "\u001b[0;36m  File \u001b[0;32m\"<ipython-input-39-b266e21a78a3>\"\u001b[0;36m, line \u001b[0;32m4\u001b[0m\n\u001b[0;31m    def stupid_print(1):\u001b[0m\n\u001b[0m                     ^\u001b[0m\n\u001b[0;31mSyntaxError\u001b[0m\u001b[0;31m:\u001b[0m invalid syntax\n"
     ]
    }
   ],
   "source": [
    "# Create a function\n",
    "\n",
    "# let's write an alternative stupid print function\n",
    "def stupid_print(1):\n",
    "    print(\"haha, here is your number\",i\")"
   ]
  }
 ],
 "metadata": {
  "kernelspec": {
   "display_name": "Python 3",
   "language": "python",
   "name": "python3"
  },
  "language_info": {
   "codemirror_mode": {
    "name": "ipython",
    "version": 3
   },
   "file_extension": ".py",
   "mimetype": "text/x-python",
   "name": "python",
   "nbconvert_exporter": "python",
   "pygments_lexer": "ipython3",
   "version": "3.7.4"
  }
 },
 "nbformat": 4,
 "nbformat_minor": 2
}
