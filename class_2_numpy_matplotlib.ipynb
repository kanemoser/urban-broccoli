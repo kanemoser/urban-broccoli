{
 "cells": [
  {
   "cell_type": "markdown",
   "metadata": {},
   "source": [
    "# Numpy and Matplotlib\n",
    "\n",
    "First of all, to use libraries, we need to import them. This is usually done at the beginning of your script/notebook."
   ]
  },
  {
   "cell_type": "code",
   "execution_count": 22,
   "metadata": {},
   "outputs": [],
   "source": [
    "import numpy as np # np is an abbreviation we can use for numpy\n",
    "import matplotlib.pyplot as plt # plt stands for plot"
   ]
  },
  {
   "cell_type": "code",
   "execution_count": 2,
   "metadata": {},
   "outputs": [
    {
     "data": {
      "text/plain": [
       "3.0"
      ]
     },
     "execution_count": 2,
     "metadata": {},
     "output_type": "execute_result"
    }
   ],
   "source": [
    "np.sqrt(9)"
   ]
  },
  {
   "cell_type": "markdown",
   "metadata": {},
   "source": [
    "Before we start, just as a vaccination of sorts, the difference between numpy and lists."
   ]
  },
  {
   "cell_type": "code",
   "execution_count": 8,
   "metadata": {},
   "outputs": [
    {
     "name": "stdout",
     "output_type": "stream",
     "text": [
      "[1, 2, 3]\n",
      "2\n",
      "[1, 2, 3, 1, 2, 3]\n",
      "[1, 2, 3, 1, 2, 3, 1, 2, 3]\n"
     ]
    }
   ],
   "source": [
    "# Let's create a list and add to the list\n",
    "a = [1,2,3]\n",
    "print(a)\n",
    "\n",
    "# Remember we can access elements of a list\n",
    "print(a[1])\n",
    "\n",
    "# Can you add a number to a list?\n",
    "# print(a+1) # no, you cannot, returns an error\n",
    "\n",
    "# Can you add two lists together?\n",
    "print(a+a) # yes you can, it concatenates the lists.\n",
    "\n",
    "# A consequence of that is that you can multiply lists, but it actually just repeats them.\n",
    "print(a*3) # just repeats the list 3 times"
   ]
  },
  {
   "cell_type": "code",
   "execution_count": 18,
   "metadata": {},
   "outputs": [
    {
     "name": "stdout",
     "output_type": "stream",
     "text": [
      "[1 2 3]\n",
      "2\n",
      "[2 3 4]\n",
      "[ 5 10 15]\n",
      "[2 4 6]\n",
      "[ 3  7 10]\n"
     ]
    }
   ],
   "source": [
    "# For math we will be using NUMPY ARRAYS, not base python lists.\n",
    "\n",
    "b = np.array([1,2,3])\n",
    "print(b)\n",
    "\n",
    "# Can we access an element of it?\n",
    "print(b[1]) # yes we can.\n",
    "\n",
    "# Can we add a number to it?\n",
    "print(b+1) # this adds 1 to every element of the list\n",
    "\n",
    "# Can we multiply by a number?\n",
    "print(b*5) # yes, and no longer concatenates, instead vectorizes the computation (multiplies all values).\n",
    "\n",
    "# Can we add two arrays together?\n",
    "print(b+b) # Yes, and moreover, it vectorizes again.\n",
    "\n",
    "# What if the vectors are differently sized?\n",
    "# print(b+np.array([2,5])) # this does not work because the arrays are not the same size.\n",
    "print(b+np.array([2,5,7])) # this works because they are the same size."
   ]
  },
  {
   "cell_type": "code",
   "execution_count": 21,
   "metadata": {},
   "outputs": [
    {
     "name": "stdout",
     "output_type": "stream",
     "text": [
      "[1 4 9]\n"
     ]
    }
   ],
   "source": [
    "# most well written functions can be called on a vector like that array, and they just apply themselves to every element.\n",
    "print(b**2)"
   ]
  },
  {
   "cell_type": "markdown",
   "metadata": {},
   "source": [
    "# Matplotlib\n",
    "Let's try to plot something."
   ]
  },
  {
   "cell_type": "code",
   "execution_count": 47,
   "metadata": {},
   "outputs": [
    {
     "data": {
      "image/png": "[encoded data removed]",
      "text/plain": [
       "<Figure size 504x360 with 1 Axes>"
      ]
     },
     "metadata": {
      "needs_background": "light"
     },
     "output_type": "display_data"
    }
   ],
   "source": [
    "x = np.arange(start=0, stop=10, step=0.2) # this creates a range of numbers from 0-10 by intervals of 0.2\n",
    "# print(x)\n",
    "plt.figure(figsize=(7,5)) # allows you to add figure-wide properties like the overall size. (7,5) is a tuple\n",
    "plt.plot(x, np.sin(x)+x/5); # adding a semicolon suppresses the output of this calculation to make it neater\n",
    "plt.xlabel('Something something');\n",
    "plt.ylabel('Something else');\n",
    "plt.plot(x, np.sqrt(x),'r-.'); # adds another line to the same plot. 'r' specifies color 'red'. use 'k' for 'black'\n",
    "                               #'r.' shows only points, 'r.-' shows line and points, 'k-.' gives a dash-dot line\n"
   ]
  },
  {
   "cell_type": "markdown",
   "metadata": {},
   "source": [
    "# Birthday Exercise"
   ]
  },
  {
   "cell_type": "markdown",
   "metadata": {},
   "source": [
    "### A somewhat practical example\n",
    "\n",
    "If there are 15 people in the room, what is the probability that two people will NOT have the same birthday?\n",
    "\n",
    "$n = 15$\n",
    "\n",
    "$P = ?$\n",
    "\n",
    "Conceptually, we calculate this by pretending we have many different rooms of 15 people.\n",
    "\n",
    "For a room with 2 people, what is $P$?\n",
    "\n",
    "Since one person can have a birthday on only one day out of the year, $P(1)=1-\\frac {1}{365}$\n",
    "\n",
    "If there are 3 people, $P(2)=1-\\frac {2}{365}$\n",
    "\n",
    "$P(AB) = P(A)*P(B)$\n",
    "\n",
    "$P(15) = (P(A)*P(B)*P(C)$ etc.\n",
    "\n",
    "We will create a for-loop to do this work for us, and plot it. So our goals are:\n",
    "\n",
    "* for loop\n",
    "* inside, update value for the total probability\n",
    "* create a np.array to save all P(N)\n",
    "* plot them"
   ]
  },
  {
   "cell_type": "code",
   "execution_count": 53,
   "metadata": {},
   "outputs": [
    {
     "name": "stdout",
     "output_type": "stream",
     "text": [
      "[ 1.          1.          1.99452055  2.98356164  3.96712329  4.94520548\n",
      "  5.91780822  6.88493151  7.84657534  8.80273973  9.75342466 10.69863014\n",
      " 11.63835616 12.57260274 13.50136986 14.42465753 15.34246575 16.25479452\n",
      " 17.16164384 18.0630137  18.95890411 19.84931507 20.73424658 21.61369863\n",
      " 22.48767123 23.35616438 24.21917808 25.07671233 25.92876712 26.77534247\n",
      " 27.61643836 28.45205479 29.28219178 30.10684932 30.9260274  31.73972603\n",
      " 32.54794521 33.35068493 34.14794521 34.93972603 35.7260274  36.50684932\n",
      " 37.28219178 38.05205479 38.81643836 39.57534247 40.32876712 41.07671233\n",
      " 41.81917808 42.55616438 43.28767123 44.01369863 44.73424658 45.44931507\n",
      " 46.15890411 46.8630137  47.56164384 48.25479452 48.94246575 49.62465753\n",
      " 50.30136986 50.97260274 51.63835616 52.29863014 52.95342466 53.60273973\n",
      " 54.24657534 54.88493151 55.51780822 56.14520548 56.76712329 57.38356164\n",
      " 57.99452055 58.6        59.2        59.79452055 60.38356164 60.96712329\n",
      " 61.54520548 62.11780822 62.68493151 63.24657534 63.80273973 64.35342466\n",
      " 64.89863014 65.43835616 65.97260274 66.50136986 67.02465753 67.54246575\n",
      " 68.05479452 68.56164384 69.0630137  69.55890411 70.04931507 70.53424658\n",
      " 71.01369863 71.48767123 71.95616438 72.41917808]\n"
     ]
    }
   ],
   "source": [
    "n = 100\n",
    "p = np.zeros(n) # Probability of not having a matching birthday\n",
    "p[0] = 1 \n",
    "p[1] = 1 # For 1 person, probability of no matching birthday is 1 (set manually)\n",
    "for i in range(2,n): # This loop will run from 2 to n-1 (the highest number will be n-1)\n",
    "    # Calculate the probability that this new person doesn't have a matching birthday\n",
    "    # Using this new value we just calculated, and a value p[i-1], calculate p[i]\n",
    "   # Should be: p[i] = (something something) *p[i-1]\n",
    "print(p)    \n",
    "    \n",
    "# Plot p, which is a vector of n numbers.    \n",
    "    "
   ]
  },
  {
   "cell_type": "code",
   "execution_count": null,
   "metadata": {},
   "outputs": [],
   "source": []
  }
 ],
 "metadata": {
  "kernelspec": {
   "display_name": "Python 3",
   "language": "python",
   "name": "python3"
  },
  "language_info": {
   "codemirror_mode": {
    "name": "ipython",
    "version": 3
   },
   "file_extension": ".py",
   "mimetype": "text/x-python",
   "name": "python",
   "nbconvert_exporter": "python",
   "pygments_lexer": "ipython3",
   "version": "3.7.4"
  }
 },
 "nbformat": 4,
 "nbformat_minor": 2
}
