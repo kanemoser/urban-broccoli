{
 "cells": [
  {
   "cell_type": "markdown",
   "metadata": {},
   "source": [
    "# Building on the Mark-Recapture model\n",
    "\n",
    "Let:\n",
    "\n",
    "N = Number of animals in the population\n",
    "\n",
    "n = Number of animals marked on the first visit\n",
    "\n",
    "K = Number of animals captured on the second visit\n",
    "\n",
    "k = Number of recaptured animals that were marked\n",
    "\n",
    "Chapman estimation equation:\n",
    "\n",
    "𝑁̂ 𝐶=(𝐾+1)(𝑛+1)𝑘+1−1\n",
    "\n",
    "### Changes vs previous version:\n",
    "* All constants moved from global variables to a class, as class properties\n",
    "* The model is made into a function\n",
    "* The \"running dotses\" visualization is made conditional (so we haven't deleted it completely), but it is now inactivated by default"
   ]
  },
  {
   "cell_type": "code",
   "execution_count": 1,
   "metadata": {},
   "outputs": [],
   "source": [
    "%matplotlib notebook\n",
    "\n",
    "import numpy as np\n",
    "import matplotlib.pyplot as plt\n",
    "import time"
   ]
  },
  {
   "cell_type": "code",
   "execution_count": 2,
   "metadata": {},
   "outputs": [],
   "source": [
    "class Const:\n",
    "    def __init__(self):\n",
    "        self.N = 10\n",
    "        self.nsteps = 100\n",
    "        self.vmin = 0.01\n",
    "        self.vmax = 0.05\n",
    "        self.trap_size = 0.4\n",
    "        self.trap_location = 'corner'\n",
    "        self.death_rate = 0.01"
   ]
  },
  {
   "cell_type": "code",
   "execution_count": 3,
   "metadata": {},
   "outputs": [],
   "source": [
    "def model(c, show_dots=False, ntrials=1):\n",
    "    history = np.zeros((c.nsteps, ntrials))\n",
    "    \n",
    "    for itrial in range (ntrials):\n",
    "        x = np.random.uniform(size=c.N)\n",
    "        y = np.random.uniform(size=c.N)\n",
    "        vx = np.random.uniform(size=c.N, low=c.vmin, high=c.vmax)*(\n",
    "            2*np.random.randint(size=c.N,low=0,high=2) - 1)\n",
    "        vy = np.random.uniform(size=c.N, low=c.vmin, high=c.vmax)*(\n",
    "            2*np.random.randint(size=c.N,low=0,high=2) - 1)\n",
    "        \n",
    "        if c.trap_location == 'corner':\n",
    "            color = np.where(np.logical_and(x<c.trap_size, y<c.trap_size), 1, 0)\n",
    "        else:\n",
    "            color = np.where((x<0.5+c.trap_size/2)*(x>0.5-c.trap_sie/2)*(\n",
    "                y<0.5+c.trap_size/2)*(y>0.5-c.trap_size/2), 1, 0)\n",
    "        n = np.sum(color)\n",
    "        estimation = np.zeros(c.nsteps) # Main output variable\n",
    "        \n",
    "        # Plotting:\n",
    "        if show_dots:\n",
    "            fig = plt.figure(figsize=(3,3))\n",
    "            ax = plt.subplot(111) # No subplots actually, just creating axes\n",
    "            plt.xlim((0,1));\n",
    "            plt.ylim((0,1));\n",
    "            fig.show()\n",
    "            fig.canvas.draw()\n",
    "            \n",
    "        for t in range(c.nsteps):\n",
    "            # Move animals around:\n",
    "            x += vx\n",
    "            y += vy\n",
    "            \n",
    "            # Reflect from the walls:\n",
    "            vx = np.where(np.logical_or(x<0, x>1), -vx, vx)\n",
    "            vy = np.where(np.logical_or(y<0, y>1), -vy, vy)\n",
    "            \n",
    "            is_replaced = np.random.uniform(size=c.n_animals)<c.death_rate\n",
    "            color[is_replaced] = 0 # These lose color- what does this mean???\n",
    "            \n",
    "            # Recapture\n",
    "            if c.trap_location == 'corner':\n",
    "                is_inside = (x<c.trap_size)*(y<c.trap_size)\n",
    "            else:\n",
    "                is_inside = (x<0.5+c.trap_size/2)*(x>0.5-c.trap_size/2)*(y<0.5+c.trap_size/2)*(y>0.5-c.trap_size/2)\n",
    "            K = np.sum(is_inside)\n",
    "            k = np.sum(is_inside*color)\n",
    "            estimation[t] = (K+1)/(k+1)*(n+1)-1\n",
    "            \n",
    "            if show_dots: # Actual animation\n",
    "                ax.clear()\n",
    "                plt.plot(x[color==0], y[color==0], 'k.',markersize=5);\n",
    "                plt.plot(x[color==1], y[color==1], 'r.',markersize=5)\n",
    "                plt.xlim((0,1));\n",
    "                plt.ylim((0,1));\n",
    "                fig.canvas.draw() # Redraws the canvas (key secret command to animate things)\n",
    "                \n",
    "        history[:,itrial] = estimation\n",
    "    return np.mean(history, axis=1)\n",
    "            "
   ]
  },
  {
   "cell_type": "code",
   "execution_count": 4,
   "metadata": {},
   "outputs": [
    {
     "ename": "AttributeError",
     "evalue": "'Const' object has no attribute 'n_animals'",
     "output_type": "error",
     "traceback": [
      "\u001b[0;31m---------------------------------------------------------------------------\u001b[0m",
      "\u001b[0;31mAttributeError\u001b[0m                            Traceback (most recent call last)",
      "\u001b[0;32m<ipython-input-4-f9896a894882>\u001b[0m in \u001b[0;36m<module>\u001b[0;34m\u001b[0m\n\u001b[1;32m      2\u001b[0m \u001b[0;34m\u001b[0m\u001b[0m\n\u001b[1;32m      3\u001b[0m \u001b[0mc\u001b[0m \u001b[0;34m=\u001b[0m \u001b[0mConst\u001b[0m\u001b[0;34m(\u001b[0m\u001b[0;34m)\u001b[0m\u001b[0;34m\u001b[0m\u001b[0;34m\u001b[0m\u001b[0m\n\u001b[0;32m----> 4\u001b[0;31m \u001b[0mcurvel\u001b[0m \u001b[0;34m=\u001b[0m \u001b[0mmodel\u001b[0m\u001b[0;34m(\u001b[0m\u001b[0mc\u001b[0m\u001b[0;34m,\u001b[0m \u001b[0mntrials\u001b[0m\u001b[0;34m=\u001b[0m\u001b[0;36m100\u001b[0m\u001b[0;34m)\u001b[0m\u001b[0;34m\u001b[0m\u001b[0;34m\u001b[0m\u001b[0m\n\u001b[0m\u001b[1;32m      5\u001b[0m \u001b[0mc\u001b[0m\u001b[0;34m.\u001b[0m\u001b[0mtrap_location\u001b[0m \u001b[0;34m=\u001b[0m \u001b[0;34m'center'\u001b[0m\u001b[0;34m\u001b[0m\u001b[0;34m\u001b[0m\u001b[0m\n\u001b[1;32m      6\u001b[0m \u001b[0mcurve2\u001b[0m \u001b[0;34m=\u001b[0m \u001b[0mmodel\u001b[0m\u001b[0;34m(\u001b[0m\u001b[0mc\u001b[0m\u001b[0;34m,\u001b[0m \u001b[0mntrials\u001b[0m \u001b[0;34m=\u001b[0m \u001b[0;36m100\u001b[0m\u001b[0;34m)\u001b[0m\u001b[0;34m\u001b[0m\u001b[0;34m\u001b[0m\u001b[0m\n",
      "\u001b[0;32m<ipython-input-3-6547b66def19>\u001b[0m in \u001b[0;36mmodel\u001b[0;34m(c, show_dots, ntrials)\u001b[0m\n\u001b[1;32m     36\u001b[0m             \u001b[0mvy\u001b[0m \u001b[0;34m=\u001b[0m \u001b[0mnp\u001b[0m\u001b[0;34m.\u001b[0m\u001b[0mwhere\u001b[0m\u001b[0;34m(\u001b[0m\u001b[0mnp\u001b[0m\u001b[0;34m.\u001b[0m\u001b[0mlogical_or\u001b[0m\u001b[0;34m(\u001b[0m\u001b[0my\u001b[0m\u001b[0;34m<\u001b[0m\u001b[0;36m0\u001b[0m\u001b[0;34m,\u001b[0m \u001b[0my\u001b[0m\u001b[0;34m>\u001b[0m\u001b[0;36m1\u001b[0m\u001b[0;34m)\u001b[0m\u001b[0;34m,\u001b[0m \u001b[0;34m-\u001b[0m\u001b[0mvy\u001b[0m\u001b[0;34m,\u001b[0m \u001b[0mvy\u001b[0m\u001b[0;34m)\u001b[0m\u001b[0;34m\u001b[0m\u001b[0;34m\u001b[0m\u001b[0m\n\u001b[1;32m     37\u001b[0m \u001b[0;34m\u001b[0m\u001b[0m\n\u001b[0;32m---> 38\u001b[0;31m             \u001b[0mis_replaced\u001b[0m \u001b[0;34m=\u001b[0m \u001b[0mnp\u001b[0m\u001b[0;34m.\u001b[0m\u001b[0mrandom\u001b[0m\u001b[0;34m.\u001b[0m\u001b[0muniform\u001b[0m\u001b[0;34m(\u001b[0m\u001b[0msize\u001b[0m\u001b[0;34m=\u001b[0m\u001b[0mc\u001b[0m\u001b[0;34m.\u001b[0m\u001b[0mn_animals\u001b[0m\u001b[0;34m)\u001b[0m\u001b[0;34m<\u001b[0m\u001b[0mc\u001b[0m\u001b[0;34m.\u001b[0m\u001b[0mdeath_rate\u001b[0m\u001b[0;34m\u001b[0m\u001b[0;34m\u001b[0m\u001b[0m\n\u001b[0m\u001b[1;32m     39\u001b[0m             \u001b[0mcolor\u001b[0m\u001b[0;34m[\u001b[0m\u001b[0mis_replaced\u001b[0m\u001b[0;34m]\u001b[0m \u001b[0;34m=\u001b[0m \u001b[0;36m0\u001b[0m \u001b[0;31m# These lose color- what does this mean???\u001b[0m\u001b[0;34m\u001b[0m\u001b[0;34m\u001b[0m\u001b[0m\n\u001b[1;32m     40\u001b[0m \u001b[0;34m\u001b[0m\u001b[0m\n",
      "\u001b[0;31mAttributeError\u001b[0m: 'Const' object has no attribute 'n_animals'"
     ]
    }
   ],
   "source": [
    "# Main program\n",
    "\n",
    "c = Const()\n",
    "curvel = model(c, ntrials=100)\n",
    "c.trap_location = 'center'\n",
    "curve2 = model(c, ntrials = 100)\n",
    "\n",
    "plt.figure()\n",
    "plt.plot(curve1, label='Corner trap');\n",
    "plt.plot(curve2, label='Center trap');\n",
    "plt.xlabel('Time');\n",
    "plt.ylabel('Estimated number of turtles');\n",
    "plt.legend(loc='lower right');"
   ]
  }
 ],
 "metadata": {
  "kernelspec": {
   "display_name": "Python 3",
   "language": "python",
   "name": "python3"
  },
  "language_info": {
   "codemirror_mode": {
    "name": "ipython",
    "version": 3
   },
   "file_extension": ".py",
   "mimetype": "text/x-python",
   "name": "python",
   "nbconvert_exporter": "python",
   "pygments_lexer": "ipython3",
   "version": "3.7.4"
  }
 },
 "nbformat": 4,
 "nbformat_minor": 2
}
