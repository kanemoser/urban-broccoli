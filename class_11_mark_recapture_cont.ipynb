{
 "cells": [
  {
   "cell_type": "markdown",
   "metadata": {},
   "source": [
    "# Building on the Mark-Recapture model\n",
    "\n",
    "### Changes vs previous version:\n",
    "* All constants moved from global variables to a class, as class properties\n",
    "* The model is made into a function\n",
    "* The \"running dotses\" visualization is made conditional (so we haven't deleted it completely), but it is now inactivated by default"
   ]
  },
  {
   "cell_type": "code",
   "execution_count": 3,
   "metadata": {},
   "outputs": [],
   "source": [
    "%matplotlib notebook\n",
    "\n",
    "import numpy as np\n",
    "import matplotlib.pyplot as plt\n",
    "import time"
   ]
  },
  {
   "cell_type": "code",
   "execution_count": 4,
   "metadata": {},
   "outputs": [],
   "source": [
    "class Const:\n",
    "    def __init__(self):\n",
    "        self.N = 10\n",
    "        self.nsteps = 100\n",
    "        self.vmin = 0.01\n",
    "        self.vmax = 0.05\n",
    "        self.trap_size = 0.4\n",
    "        self.trap_location = 'corner'\n",
    "        self.death_rate = 0.01"
   ]
  },
  {
   "cell_type": "code",
   "execution_count": 5,
   "metadata": {},
   "outputs": [],
   "source": [
    "def model(c, show_dots=False, ntrials=1):\n",
    "    history = np.zeros((c.nsteps, ntrials))\n",
    "    \n",
    "    for itrial in range (ntrials):\n",
    "        x = np.random.uniform(size=c.N)\n",
    "        y = np.random.uniform(size=c.N)\n",
    "        vx = np.random.uniform(size=c.N, low=c.vmin, high=c.vmax)*(\n",
    "            2*np.random.randint(size=c.N,low=0,high=2) - 1)\n",
    "        vy = np.random.uniform(size=c.N, low=c.vmin, high=c.vmax)*(\n",
    "            2*np.random.randint(size=c.N,low=0,high=2) - 1)\n",
    "        \n",
    "        if c.trap_location == 'corner':\n",
    "            color = np.where(np.logical_and(x<c.trap_size, y<c.trap_size), 1, 0)\n",
    "        else:\n",
    "            \n",
    "        "
   ]
  }
 ],
 "metadata": {
  "kernelspec": {
   "display_name": "Python 3",
   "language": "python",
   "name": "python3"
  },
  "language_info": {
   "codemirror_mode": {
    "name": "ipython",
    "version": 3
   },
   "file_extension": ".py",
   "mimetype": "text/x-python",
   "name": "python",
   "nbconvert_exporter": "python",
   "pygments_lexer": "ipython3",
   "version": "3.7.4"
  }
 },
 "nbformat": 4,
 "nbformat_minor": 2
}
