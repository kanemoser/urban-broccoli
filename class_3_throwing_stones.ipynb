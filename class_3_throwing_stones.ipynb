{
 "cells": [
  {
   "cell_type": "markdown",
   "metadata": {},
   "source": [
    "# Simple numerical integration for motion\n",
    "Throwing stones and tracking their trajectory.\n",
    "\n",
    "Guiding equations:\n",
    "\n",
    "$x_{i+1}=x_{i}+v_{i}*dt$\n",
    "\n",
    "$v_{i+1}=v_{i}+a*dt$"
   ]
  },
  {
   "cell_type": "code",
   "execution_count": 1,
   "metadata": {},
   "outputs": [],
   "source": [
    "import numpy as np\n",
    "import matplotlib.pyplot as plt"
   ]
  },
  {
   "cell_type": "markdown",
   "metadata": {},
   "source": [
    "### Attempt 1: throwing the stone upwards"
   ]
  },
  {
   "cell_type": "code",
   "execution_count": 5,
   "metadata": {},
   "outputs": [
    {
     "data": {
      "image/png": "[encoded data removed]",
      "text/plain": [
       "<Figure size 432x288 with 1 Axes>"
      ]
     },
     "metadata": {
      "needs_background": "light"
     },
     "output_type": "display_data"
    }
   ],
   "source": [
    "a = -2         # Acceleration; negative because it tries to reverse the flight of the stone.\n",
    "v = 5          # The height of the stone; we throw the stone upwards, so it is positive\n",
    "x = 0          # We throw it from the surface so x is 0\n",
    "dt = 0.01      # Our step. Numerical integration step is supposed to be very small.\n",
    "nsteps = 1000\n",
    "history = np.zeros(nsteps)  # In order to plot something, we must first make an \"empty\" array of numbers that\n",
    "                            # will be filled by what goes inside the loop.\n",
    "\n",
    "for i in range(nsteps):\n",
    "    v = v + a*dt\n",
    "    x = max((x + v*dt), 0)  # max() assures the stone cannot fall through the ground\n",
    "    history[i] = x\n",
    "    \n",
    "plt.plot(history);\n",
    "    "
   ]
  },
  {
   "cell_type": "markdown",
   "metadata": {},
   "source": [
    "### Attempt 2: throwing the stone at an angle"
   ]
  },
  {
   "cell_type": "code",
   "execution_count": 13,
   "metadata": {
    "scrolled": true
   },
   "outputs": [
    {
     "data": {
      "image/png": "[encoded data removed]",
      "text/plain": [
       "<Figure size 432x288 with 1 Axes>"
      ]
     },
     "metadata": {
      "needs_background": "light"
     },
     "output_type": "display_data"
    }
   ],
   "source": [
    "a = -1         # Acceleration; negative because it tries to reverse the flight of the stone.\n",
    "vy = 5         # The height of the stone; we throw the stone upwards, so it is positive\n",
    "vx = 1\n",
    "y = 0         \n",
    "x = 0          # We throw it from the surface so x is 0\n",
    "dt = 0.07      # Our step. Numerical integration step is supposed to be very small.\n",
    "nsteps = round(10/dt)\n",
    "history = np.zeros(nsteps)  # In order to plot something, we must first make an \"empty\" array of numbers that\n",
    "                            # will be filled by what goes inside the loop.\n",
    "\n",
    "for i in range(nsteps):\n",
    "    vy = vy + a*dt          # Update vertical spread\n",
    "   \n",
    "    x = x + vx*dt           # Update x position\n",
    "    y = max((y + vy*dt), 0) # max() assures the stone cannot fall through the ground\n",
    "    history[i] = x\n",
    "    \n",
    "    plt.plot(x,y, 'k.');\n",
    "    "
   ]
  },
  {
   "cell_type": "markdown",
   "metadata": {},
   "source": [
    "What if we tried to throw a hamburger instead of a stone? It is much lighter, so the friction of the air will matter."
   ]
  },
  {
   "cell_type": "markdown",
   "metadata": {},
   "source": [
    "### Attempt 3: add friction\n",
    "$(v_{i+1}=v_{i}+a*dt) - (v_{i}*friction)$"
   ]
  },
  {
   "cell_type": "code",
   "execution_count": 29,
   "metadata": {
    "scrolled": true
   },
   "outputs": [
    {
     "data": {
      "image/png": "[encoded data removed]",
      "text/plain": [
       "<Figure size 432x288 with 1 Axes>"
      ]
     },
     "metadata": {
      "needs_background": "light"
     },
     "output_type": "display_data"
    }
   ],
   "source": [
    "a = -1         # Acceleration; negative because it tries to reverse the flight of the stone.\n",
    "vy = 5         # The vertical speed of the stone; we throw the stone upwards, so it is positive\n",
    "vx = 1         # Horizontal speed\n",
    "f = 0.01       # Magic friction coefficient: how important friction is to gravity\n",
    "y = 0         \n",
    "x = 0          \n",
    "\n",
    "dt = 0.01      # Our step. Numerical integration step is supposed to be very small.\n",
    "nsteps = round(10/dt)\n",
    "history = np.zeros(nsteps)  # In order to plot something, we must first make an \"empty\" array of numbers that\n",
    "                            # will be filled by what goes inside the loop.\n",
    "\n",
    "for i in range(nsteps):\n",
    "    vy = (vy + a*dt) - (vy*f)          # Add friction to vertical speed\n",
    "    vx = vx - vx*f                     # Add friction to horizontal speed\n",
    "   \n",
    "    x = x + vx*dt                      # It doesn't make any sense to add friction to this equation bc it is like\n",
    "                                       # adding oranges to years, not even oranges to apples\n",
    "    y = max((y + vy*dt), 0)            # max() assures the stone cannot fall through the ground\n",
    "    history[i] = x\n",
    "    \n",
    "    plt.plot(x,y, 'k.');\n",
    "    "
   ]
  }
 ],
 "metadata": {
  "kernelspec": {
   "display_name": "Python 3",
   "language": "python",
   "name": "python3"
  },
  "language_info": {
   "codemirror_mode": {
    "name": "ipython",
    "version": 3
   },
   "file_extension": ".py",
   "mimetype": "text/x-python",
   "name": "python",
   "nbconvert_exporter": "python",
   "pygments_lexer": "ipython3",
   "version": "3.7.4"
  }
 },
 "nbformat": 4,
 "nbformat_minor": 2
}
