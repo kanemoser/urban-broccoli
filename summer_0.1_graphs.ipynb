{
 "cells": [
  {
   "cell_type": "markdown",
   "metadata": {},
   "source": [
    "# Long term goals:\n",
    "\n",
    "* quick reminder of what graphs are\n",
    "* learn to represent networks (graphs) in python\n",
    "* create some interesting (realistic?) networks\n",
    "* describe some important or interesting properties of networks mathematically\n",
    "* create a model for processes on networks\n"
   ]
  },
  {
   "cell_type": "code",
   "execution_count": 22,
   "metadata": {},
   "outputs": [
    {
     "name": "stdout",
     "output_type": "stream",
     "text": [
      "[(0, 1), (0, 2)]\n"
     ]
    }
   ],
   "source": [
    "class Graph(): # creates a class called graph so that we can have objects inside that do things\n",
    "    def __init__(self): # initializes values of \"instance members\" of new class\n",
    "        self.edges = [] # a list of tuples to define our edges\n",
    "        self.nodes = []\n",
    "        \n",
    "    def add_node(self,node):\n",
    "        if node not in self.nodes:\n",
    "            self.nodes.append(node)\n",
    "    \n",
    "    def add_edge(self,node1,node2): # 3 arguments, first is structural, others involve what we want to create\n",
    "        self.add_node(node1)\n",
    "        self.add_node(node2)\n",
    "        if (node1,node2) not in self.edges:\n",
    "            self.edges.append((node1,node2))\n",
    "            \n",
    "    def __str__(self):\n",
    "        return str(self.edges)\n",
    "    \n",
    "# Test\n",
    "g = Graph()\n",
    "g.add_edge(0,1)\n",
    "g.add_edge(0,1)\n",
    "g.add_edge(0,2)\n",
    "print(g)\n",
    "    "
   ]
  },
  {
   "cell_type": "code",
   "execution_count": 23,
   "metadata": {},
   "outputs": [
    {
     "name": "stdout",
     "output_type": "stream",
     "text": [
      "[(0, 1), (0, 2)]\n"
     ]
    }
   ],
   "source": [
    "print(g)"
   ]
  },
  {
   "cell_type": "code",
   "execution_count": 27,
   "metadata": {},
   "outputs": [
    {
     "data": {
      "text/plain": [
       "[(0, 1), (0, 2)]"
      ]
     },
     "execution_count": 27,
     "metadata": {},
     "output_type": "execute_result"
    }
   ],
   "source": [
    "g.edges"
   ]
  },
  {
   "cell_type": "code",
   "execution_count": 28,
   "metadata": {},
   "outputs": [
    {
     "data": {
      "text/plain": [
       "[0, 1, 2]"
      ]
     },
     "execution_count": 28,
     "metadata": {},
     "output_type": "execute_result"
    }
   ],
   "source": [
    "g.nodes"
   ]
  },
  {
   "cell_type": "markdown",
   "metadata": {},
   "source": [
    "So eventually out of what we've done so far we want to have a model with 1 infected person, and then be able to see all people connected to that infected person. To do this, we have to be able to go through each edge, and select what edges mention the infected node but not the others, and then \"put\" those nodes somewhere. (then eventually we have to continue this for a second infected person etc)\n",
    "\n",
    "The data structure we will have to use is a dictionary. Ex:"
   ]
  },
  {
   "cell_type": "code",
   "execution_count": 31,
   "metadata": {},
   "outputs": [
    {
     "data": {
      "text/plain": [
       "{1: [2, 3], 0: [1, 4]}"
      ]
     },
     "execution_count": 31,
     "metadata": {},
     "output_type": "execute_result"
    }
   ],
   "source": [
    "a = {1:[2,3], 0:[1,4]}\n",
    "a"
   ]
  },
  {
   "cell_type": "code",
   "execution_count": 33,
   "metadata": {},
   "outputs": [
    {
     "data": {
      "text/plain": [
       "False"
      ]
     },
     "execution_count": 33,
     "metadata": {},
     "output_type": "execute_result"
    }
   ],
   "source": [
    "2 in a"
   ]
  },
  {
   "cell_type": "code",
   "execution_count": 34,
   "metadata": {},
   "outputs": [
    {
     "data": {
      "text/plain": [
       "True"
      ]
     },
     "execution_count": 34,
     "metadata": {},
     "output_type": "execute_result"
    }
   ],
   "source": [
    "0 in a"
   ]
  },
  {
   "cell_type": "markdown",
   "metadata": {},
   "source": [
    "The numbers that are on the left of the colon are called \"keys\", so thus far we have only 2 keys, 1 and 0. Nodes will be the keys here."
   ]
  },
  {
   "cell_type": "code",
   "execution_count": 50,
   "metadata": {},
   "outputs": [
    {
     "name": "stdout",
     "output_type": "stream",
     "text": [
      "A graph of 7 nodes:\n",
      "0:[1, 2]\n",
      "1:[0]\n",
      "2:[0]\n",
      "3:[4]\n",
      "4:[3, 5]\n",
      "5:[4]\n",
      "7:[]\n",
      "\n"
     ]
    }
   ],
   "source": [
    "class Graph(): # creates a class called graph so that we can have objects inside that do things\n",
    "    def __init__(self): # initializes values of \"instance members\" of new class\n",
    "        # self.edges = [] # a list of tuples to define our edges\n",
    "        # self.nodes = []\n",
    "        self.graphdict = {} # for every node, a list of nodes that are connected to it\n",
    "        \n",
    "    def add_node(self,node): # if node is not in dictionary, add it here\n",
    "        if node not in self.graphdict:\n",
    "            self.graphdict[node] = []\n",
    "    \n",
    "    def add_edge(self,node1,node2): # 3 arguments, first is structural, others involve what we want to create\n",
    "        self.add_node(node1)\n",
    "        self.add_node(node2)\n",
    "        # instead of adding edges we want to add node2 as a connection to node1 and vice versa\n",
    "        if node2 not in self.graphdict[node1]: # make sure the nodes are connected to each other\n",
    "            self.graphdict[node1].append(node2)\n",
    "        if node1 not in self.graphdict[node2]:\n",
    "            self.graphdict[node2].append(node1)\n",
    "        \n",
    "    def __str__(self): # allows you to print what's going on in the class\n",
    "        out = 'A graph of ' + str(len(self.graphdict)) + ' nodes:\\n' # makes output into a table\n",
    "        for node in self.graphdict:\n",
    "            out += str(node) + ':' + str(self.graphdict[node]) + '\\n'\n",
    "        return out\n",
    "        \n",
    "    \n",
    "# Test\n",
    "g = Graph()\n",
    "g.add_edge(0,1)\n",
    "g.add_edge(0,2)\n",
    "g.add_edge(3,4)\n",
    "g.add_edge(4,5)\n",
    "g.add_node(7)\n",
    "print(g)\n",
    "    "
   ]
  },
  {
   "cell_type": "markdown",
   "metadata": {},
   "source": [
    "# Next step: Random Networks\n",
    "\n",
    "1. Create random networks\n",
    "\n",
    "2. Try to visualize them\n",
    "\n",
    "3. Calculate some simple stats (degree distribution, meaning how many edges each node has)"
   ]
  },
  {
   "cell_type": "code",
   "execution_count": 119,
   "metadata": {},
   "outputs": [],
   "source": [
    "import numpy as np\n",
    "import matplotlib.pyplot as plt\n",
    "import networkx as nx"
   ]
  },
  {
   "cell_type": "markdown",
   "metadata": {},
   "source": [
    "To visualize, we will use a new package. Go to Anaconda and install networkx, then import it here as nx"
   ]
  },
  {
   "cell_type": "code",
   "execution_count": 87,
   "metadata": {},
   "outputs": [
    {
     "name": "stdout",
     "output_type": "stream",
     "text": [
      "1 dog\n",
      "2 cat\n"
     ]
    }
   ],
   "source": [
    "# example of calling items from dictionary\n",
    "a = {1:'dog', 2:'cat'}\n",
    "for key,value in a.items():\n",
    "    print(key,value)"
   ]
  },
  {
   "cell_type": "code",
   "execution_count": 129,
   "metadata": {
    "scrolled": true
   },
   "outputs": [
    {
     "name": "stdout",
     "output_type": "stream",
     "text": [
      "A graph of 7 nodes:\n",
      "0:[1, 2]\n",
      "1:[0]\n",
      "2:[0]\n",
      "3:[4]\n",
      "4:[3, 5]\n",
      "5:[4]\n",
      "7:[]\n",
      "\n",
      "Nodes: [0, 1, 2, 3, 4, 5, 7]\n",
      "Edges: [(0, 1), (0, 2), (3, 4), (4, 5)]\n"
     ]
    },
    {
     "data": {
      "image/png": "[encoded data removed]",
      "text/plain": [
       "<Figure size 432x288 with 1 Axes>"
      ]
     },
     "metadata": {},
     "output_type": "display_data"
    }
   ],
   "source": [
    "class Graph(): # creates a class called graph so that we can have objects inside that do things\n",
    "    def __init__(self): # initializes values of \"instance members\" of new class\n",
    "        # self.edges = [] # a list of tuples to define our edges\n",
    "        # self.nodes = []\n",
    "        self.graphdict = {} # for every node, a list of nodes that are connected to it\n",
    "        \n",
    "    def add_node(self,node): # if node is not in dictionary, add it here\n",
    "        if node not in self.graphdict:\n",
    "            self.graphdict[node] = []\n",
    "    \n",
    "    def add_edge(self,node1,node2): # 3 arguments, first is structural, others involve what we want to create\n",
    "        self.add_node(node1)\n",
    "        self.add_node(node2)\n",
    "        # instead of adding edges we want to add node2 as a connection to node1 and vice versa\n",
    "        if node2 not in self.graphdict[node1]: # make sure the nodes are connected to each other\n",
    "            self.graphdict[node1].append(node2)\n",
    "        if node1 not in self.graphdict[node2]:\n",
    "            self.graphdict[node2].append(node1)\n",
    "            \n",
    "    def nodes(self):\n",
    "        \"\"\" returns a list of nodes, for use in networkx \"\"\"\n",
    "        return list(self.graphdict.keys())\n",
    "    \n",
    "    def edges(self):\n",
    "        \"\"\" returns a list of edges, for use in networkx \"\"\"\n",
    "        out = []\n",
    "        for key,values in self.graphdict.items():\n",
    "            for value in values:\n",
    "                if value>key:\n",
    "                    out.append((key,value))\n",
    "        return out\n",
    "        \n",
    "        \n",
    "    def __str__(self):\n",
    "        out = 'A graph of ' + str(len(self.graphdict)) + ' nodes:\\n' # makes output into a table\n",
    "        for node in self.graphdict:\n",
    "            out += str(node) + ':' + str(self.graphdict[node]) + '\\n'\n",
    "        return out\n",
    "    \n",
    "    def plot(self):\n",
    "        \"\"\" creates a plot \"\"\"\n",
    "        g_nx = nx.Graph()\n",
    "        g_nx.add_nodes_from(self.nodes())\n",
    "        g_nx.add_edges_from(self.edges())\n",
    "        nx.draw_kamada_kawai(g_nx, node_size=100) # default node size is 300\n",
    "        \n",
    "    \n",
    "# Test\n",
    "g = Graph()\n",
    "g.add_edge(0,1)\n",
    "g.add_edge(0,2)\n",
    "g.add_edge(3,4)\n",
    "g.add_edge(4,5)\n",
    "g.add_node(7)\n",
    "print(g)\n",
    "print('Nodes:', g.nodes())\n",
    "print('Edges:', g.edges())\n",
    "g.plot()"
   ]
  },
  {
   "cell_type": "code",
   "execution_count": 46,
   "metadata": {
    "scrolled": true
   },
   "outputs": [
    {
     "data": {
      "text/plain": [
       "0"
      ]
     },
     "execution_count": 46,
     "metadata": {},
     "output_type": "execute_result"
    }
   ],
   "source": [
    "np.random.randint(low=0, high=1) # high doesn't mean highest value, it means highest value +1 b/c zero indexing"
   ]
  },
  {
   "cell_type": "code",
   "execution_count": 64,
   "metadata": {},
   "outputs": [
    {
     "name": "stdout",
     "output_type": "stream",
     "text": [
      "2 1\n"
     ]
    }
   ],
   "source": [
    "# proof that the code to ensure no duplicates did something\n",
    "a = 1\n",
    "b = 2\n",
    "a,b = b,a\n",
    "print(a,b)"
   ]
  },
  {
   "cell_type": "code",
   "execution_count": 131,
   "metadata": {
    "scrolled": true
   },
   "outputs": [
    {
     "name": "stdout",
     "output_type": "stream",
     "text": [
      "0 20\n",
      "39 40\n",
      "11 26\n",
      "14 27\n",
      "20 21\n",
      "32 48\n",
      "5 37\n",
      "9 23\n",
      "30 40\n",
      "8 45\n",
      "20 40\n",
      "32 40\n",
      "6 19\n",
      "44 49\n",
      "21 44\n",
      "5 26\n",
      "7 46\n",
      "29 45\n",
      "25 37\n",
      "12 39\n",
      "11 14\n",
      "6 35\n",
      "2 26\n",
      "5 38\n",
      "4 12\n",
      "19 41\n",
      "7 38\n",
      "0 41\n",
      "7 13\n",
      "9 40\n",
      "34 43\n",
      "0 37\n",
      "21 30\n",
      "12 40\n",
      "18 36\n",
      "1 40\n",
      "14 28\n",
      "22 37\n",
      "1 49\n",
      "13 29\n",
      "26 31\n",
      "8 49\n",
      "1 22\n",
      "12 19\n",
      "10 30\n",
      "2 17\n",
      "15 27\n",
      "5 14\n",
      "27 28\n",
      "18 27\n"
     ]
    },
    {
     "data": {
      "image/png": "[encoded data removed]",
      "text/plain": [
       "<Figure size 432x288 with 1 Axes>"
      ]
     },
     "metadata": {},
     "output_type": "display_data"
    }
   ],
   "source": [
    "# Create a random network\n",
    "\n",
    "N_NODES = 50\n",
    "N_EDGES = N_NODES\n",
    "\n",
    "g = Graph()\n",
    "for i in range(N_NODES):\n",
    "    g.add_node(i)\n",
    "edges = []\n",
    "while len(edges)<N_EDGES:\n",
    "    n1 = np.random.randint(low=0, high=N_NODES) # need to use numpy random generator\n",
    "    n2 = np.random.randint(low=0, high=N_NODES)\n",
    "    if n2<n1:\n",
    "        n1,n2 = n2,n1 # makes sure of no duplicate edges\n",
    "    \n",
    "    if (n1,n2) not in edges and n1!=n2: # if an edge doesn't already exist and doesn't form a loop\n",
    "        g.add_edge(n1,n2) # then add it\n",
    "        edges.append((n1,n2)) # actually add it\n",
    "        print(n1,n2)\n",
    "    \n",
    "#print(g)\n",
    "g.plot() # create plot"
   ]
  },
  {
   "cell_type": "code",
   "execution_count": null,
   "metadata": {},
   "outputs": [],
   "source": []
  },
  {
   "cell_type": "code",
   "execution_count": 136,
   "metadata": {
    "scrolled": true
   },
   "outputs": [
    {
     "name": "stdout",
     "output_type": "stream",
     "text": [
      "[3, 3, 2, 0, 1, 4, 2, 3, 2, 2, 1, 2, 4, 2, 4, 1, 0, 1, 2, 3, 3, 3, 2, 1, 0, 1, 4, 4, 2, 2, 3, 1, 2, 0, 1, 1, 1, 4, 2, 2, 7, 2, 0, 1, 2, 2, 1, 0, 1, 3]\n",
      "[ 6. 13. 16.  8.  6.  0.  0.  1.]\n"
     ]
    },
    {
     "data": {
      "image/png": "[encoded data removed]",
      "text/plain": [
       "<Figure size 432x288 with 1 Axes>"
      ]
     },
     "metadata": {
      "needs_background": "light"
     },
     "output_type": "display_data"
    }
   ],
   "source": [
    "degrees = [] # create empty list of course\n",
    "for node,links in g.graphdict.items():\n",
    "    degrees.append(len(links)) # fill the list with degrees of the nodes\n",
    "print(degrees) \n",
    "\n",
    "hist = np.zeros(max(degrees)+1) # shift x axis so that all values are visible b/c of zero indexing\n",
    "for degree in degrees:\n",
    "    hist[degree] += 1\n",
    "print(hist)\n",
    "\n",
    "plt.plot(hist, '.-');\n",
    "plt.xlabel('Degrees');\n",
    "plt.ylabel('Frequency');"
   ]
  }
 ],
 "metadata": {
  "kernelspec": {
   "display_name": "Python 3",
   "language": "python",
   "name": "python3"
  },
  "language_info": {
   "codemirror_mode": {
    "name": "ipython",
    "version": 3
   },
   "file_extension": ".py",
   "mimetype": "text/x-python",
   "name": "python",
   "nbconvert_exporter": "python",
   "pygments_lexer": "ipython3",
   "version": "3.7.4"
  }
 },
 "nbformat": 4,
 "nbformat_minor": 2
}
