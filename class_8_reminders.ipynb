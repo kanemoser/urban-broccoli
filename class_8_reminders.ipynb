{
 "cells": [
  {
   "cell_type": "code",
   "execution_count": 3,
   "metadata": {},
   "outputs": [],
   "source": [
    "import numpy as np"
   ]
  },
  {
   "cell_type": "markdown",
   "metadata": {},
   "source": [
    "### Some reminders"
   ]
  },
  {
   "cell_type": "code",
   "execution_count": 4,
   "metadata": {},
   "outputs": [
    {
     "data": {
      "text/plain": [
       "array([[1, 2, 3],\n",
       "       [4, 5, 6]])"
      ]
     },
     "execution_count": 4,
     "metadata": {},
     "output_type": "execute_result"
    }
   ],
   "source": [
    "c = np.array([[1,2,3],[4,5,6]])\n",
    "c"
   ]
  },
  {
   "cell_type": "code",
   "execution_count": 9,
   "metadata": {},
   "outputs": [
    {
     "name": "stdout",
     "output_type": "stream",
     "text": [
      "5\n",
      "[4 5 6]\n",
      "[5 6]\n",
      "[4 5 6]\n"
     ]
    }
   ],
   "source": [
    "print(c[1,1]) # Zero indexing means that calling the first row actually refers to the second\n",
    "print(c[1,:]) # This gives the entire \"first\" row\n",
    "print(c[1,1:]) # Picks the first row, then the first column and everything after it\n",
    "print(c[c.shape[0]-1,:]) # Also gives the entire \"first\" row, but this is not how you do it\n"
   ]
  },
  {
   "cell_type": "code",
   "execution_count": 11,
   "metadata": {
    "scrolled": true
   },
   "outputs": [
    {
     "data": {
      "text/plain": [
       "array([[0., 0., 0.],\n",
       "       [0., 0., 0.],\n",
       "       [0., 0., 0.],\n",
       "       [0., 0., 0.],\n",
       "       [0., 0., 0.]])"
      ]
     },
     "execution_count": 11,
     "metadata": {},
     "output_type": "execute_result"
    }
   ],
   "source": [
    "# Back to a larger structure:\n",
    "a = np.zeros((5,3))\n",
    "a"
   ]
  },
  {
   "cell_type": "code",
   "execution_count": 13,
   "metadata": {},
   "outputs": [
    {
     "name": "stdout",
     "output_type": "stream",
     "text": [
      "[[  0.   0.   0.]\n",
      " [  0. 777.   0.]\n",
      " [  0.   0.   0.]\n",
      " [  0.   1.   1.]\n",
      " [  0.   1.   1.]]\n"
     ]
    }
   ],
   "source": [
    "a[1,1] = 777 # one particular element\n",
    "a[-2:,-2:] = 1 # bottom right corner\n",
    "print(a)"
   ]
  },
  {
   "cell_type": "markdown",
   "metadata": {},
   "source": [
    "Row 5 doesn't exist, so counting back from the bottom, row 4 is like -1, row 3 is like -2.\n",
    "\n",
    "Fencepost problem:\n",
    "https://en.wikipedia.org/wiki/Off-by-one_error"
   ]
  },
  {
   "cell_type": "code",
   "execution_count": 15,
   "metadata": {},
   "outputs": [
    {
     "name": "stdout",
     "output_type": "stream",
     "text": [
      "[[  0.   0.   0.]\n",
      " [  0. 777.   0.]\n",
      " [  0. 111.   0.]\n",
      " [  0.   1.   1.]\n",
      " [  0.   1.   1.]]\n"
     ]
    }
   ],
   "source": [
    "a[2,:] = a[1,:]/7\n",
    "print(a)"
   ]
  },
  {
   "cell_type": "code",
   "execution_count": 21,
   "metadata": {},
   "outputs": [
    {
     "name": "stdout",
     "output_type": "stream",
     "text": [
      "[[  0.   0.   0.]\n",
      " [777. 777.   0.]\n",
      " [111. 111.   0.]\n",
      " [  2.   1.   1.]\n",
      " [  2.   1.   1.]]\n",
      "Another attempt:\n",
      " [[  0.   0.   0.]\n",
      " [777. 777.   0.]\n",
      " [111. 111.   0.]\n",
      " [  2.   1.   1.]\n",
      " [  2.   1.   1.]]\n"
     ]
    }
   ],
   "source": [
    "a[:,0] = a[:,1] + a[:,2] # make the 0th column a sum of the other two columns\n",
    "print(a)\n",
    "a[:,0] = np.sum(a[:,1:], axis=1)\n",
    "print('Another attempt:\\n',a)"
   ]
  },
  {
   "cell_type": "code",
   "execution_count": 25,
   "metadata": {},
   "outputs": [
    {
     "name": "stdout",
     "output_type": "stream",
     "text": [
      "[[21 22 23]\n",
      " [24 25 26]]\n"
     ]
    }
   ],
   "source": [
    "c*2 # multiplies every element in the array by the number\n",
    "c+10 # adds 10 to each element\n",
    "c+=10 # means c = c+10\n",
    "print(c)"
   ]
  }
 ],
 "metadata": {
  "kernelspec": {
   "display_name": "Python 3",
   "language": "python",
   "name": "python3"
  },
  "language_info": {
   "codemirror_mode": {
    "name": "ipython",
    "version": 3
   },
   "file_extension": ".py",
   "mimetype": "text/x-python",
   "name": "python",
   "nbconvert_exporter": "python",
   "pygments_lexer": "ipython3",
   "version": "3.7.4"
  }
 },
 "nbformat": 4,
 "nbformat_minor": 2
}
