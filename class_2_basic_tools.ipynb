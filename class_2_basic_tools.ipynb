{
 "cells": [
  {
   "cell_type": "code",
   "execution_count": 5,
   "metadata": {},
   "outputs": [
    {
     "name": "stdout",
     "output_type": "stream",
     "text": [
      "Here is a number: 2\n",
      "I have a lovely dog named Spot\n",
      "I have a lovely dog named Fido\n",
      "I have a lovely dog named Rex\n"
     ]
    }
   ],
   "source": [
    "# Functions\n",
    "# they exist\n",
    "\n",
    "# Functions that just do things but don't talk back (void functions)\n",
    "# Example built in function:\n",
    "print('Here is a number:',2)\n",
    "\n",
    "# Sad life of a person who wrote the same code many times\n",
    "print('I have a lovely dog named Spot')\n",
    "print('I have a lovely dog named Fido')\n",
    "print('I have a lovely dog named Rex')"
   ]
  },
  {
   "cell_type": "code",
   "execution_count": 13,
   "metadata": {},
   "outputs": [
    {
     "name": "stdout",
     "output_type": "stream",
     "text": [
      "I have a lovely dog named Teddy\n",
      "I have a lovely dog named Dog\n"
     ]
    }
   ],
   "source": [
    "# Make a function to make it better:\n",
    "def express_love_old(name=\"Dog\"): # name is the argument that the function will take, \"Dog\" is the set default value\n",
    "    print('I have a lovely dog named',name)\n",
    "    \n",
    "express_love_old(\"Teddy\")\n",
    "express_love_old() # prints out the default"
   ]
  },
  {
   "cell_type": "code",
   "execution_count": 15,
   "metadata": {},
   "outputs": [
    {
     "name": "stdout",
     "output_type": "stream",
     "text": [
      "I have a lovely dog named Teddy\n",
      "Glory to all living things!\n"
     ]
    }
   ],
   "source": [
    "# Make the function fancy:\n",
    "def express_love(name=None): # default value of None, so no error if called without arguments\n",
    "    \"\"\"Expresses love to all creation, or a specific dog.\"\"\"\n",
    "    # thing above ^^^ is a special type of comment that explains function definition, called a function docstring\n",
    "    if name is None:         # special behavior if no argument is called\n",
    "        print(\"Glory to all living things!\")\n",
    "    else:\n",
    "        print('I have a lovely dog named',name)\n",
    "    \n",
    "express_love(\"Teddy\")\n",
    "express_love() # prints out the default"
   ]
  },
  {
   "cell_type": "code",
   "execution_count": 17,
   "metadata": {},
   "outputs": [
    {
     "name": "stdout",
     "output_type": "stream",
     "text": [
      "The loop starts now:\n",
      "I have a lovely dog named Spot\n",
      "I have a lovely dog named Fido\n",
      "I have a lovely dog named Rex\n",
      "I have a lovely dog named Teddy\n"
     ]
    }
   ],
   "source": [
    "# Let's glorify several dogs in one go.\n",
    "names = ['Spot','Fido','Rex','Teddy']\n",
    "print('The loop starts now:')\n",
    "for name in names:       # (FOR) here makes your running variable (NAME) take values from the list (NAMES) one by one\n",
    "    express_love(name)\n"
   ]
  },
  {
   "cell_type": "code",
   "execution_count": 9,
   "metadata": {},
   "outputs": [
    {
     "ename": "TypeError",
     "evalue": "express_love() missing 1 required positional argument: 'name'",
     "output_type": "error",
     "traceback": [
      "\u001b[0;31m---------------------------------------------------------------------------\u001b[0m",
      "\u001b[0;31mTypeError\u001b[0m                                 Traceback (most recent call last)",
      "\u001b[0;32m<ipython-input-9-78770a3c1611>\u001b[0m in \u001b[0;36m<module>\u001b[0;34m\u001b[0m\n\u001b[1;32m      1\u001b[0m \u001b[0mexpress_love\u001b[0m \u001b[0;31m# if you call a function name w/o parentheses, you will \"get\" a printout of the function itself\u001b[0m\u001b[0;34m\u001b[0m\u001b[0;34m\u001b[0m\u001b[0m\n\u001b[0;32m----> 2\u001b[0;31m \u001b[0mexpress_love\u001b[0m\u001b[0;34m(\u001b[0m\u001b[0;34m)\u001b[0m \u001b[0;31m# if you call the function without its component, an error will appear, and Python will try\u001b[0m\u001b[0;34m\u001b[0m\u001b[0;34m\u001b[0m\u001b[0m\n\u001b[0m\u001b[1;32m      3\u001b[0m \u001b[0;31m# to show you where your mistake was\u001b[0m\u001b[0;34m\u001b[0m\u001b[0;34m\u001b[0m\u001b[0;34m\u001b[0m\u001b[0m\n",
      "\u001b[0;31mTypeError\u001b[0m: express_love() missing 1 required positional argument: 'name'"
     ]
    }
   ],
   "source": [
    "express_love # if you call a function name w/o parentheses, you will \"get\" a printout of the function itself\n",
    "express_love() # if you call the function without its component, an error will appear, and Python will try\n",
    "# to show you where your mistake was"
   ]
  },
  {
   "cell_type": "code",
   "execution_count": 23,
   "metadata": {},
   "outputs": [
    {
     "name": "stdout",
     "output_type": "stream",
     "text": [
      "14\n",
      "5\n",
      "14\n",
      "5\n"
     ]
    }
   ],
   "source": [
    "# Functions that do something and give it back to you (productive functions)\n",
    "# Example built in function\n",
    "len(names) # Takes something and returns the length of it\n",
    "\n",
    "# Imagine that someone has to calculate x**2+5 over and over and over\n",
    "print(3**2+5)\n",
    "print(0**2+5)\n",
    "\n",
    "def my_calculation(x): # strategic choice to not assign a default value; we want it to protest\n",
    "    \"\"\"Calculates this very important formula on which our lives depend.\"\"\"\n",
    "    return x**2+5\n",
    "\n",
    "print(my_calculation(3))\n",
    "print(my_calculation(0))"
   ]
  }
 ],
 "metadata": {
  "kernelspec": {
   "display_name": "Python 3",
   "language": "python",
   "name": "python3"
  },
  "language_info": {
   "codemirror_mode": {
    "name": "ipython",
    "version": 3
   },
   "file_extension": ".py",
   "mimetype": "text/x-python",
   "name": "python",
   "nbconvert_exporter": "python",
   "pygments_lexer": "ipython3",
   "version": "3.7.4"
  }
 },
 "nbformat": 4,
 "nbformat_minor": 2
}
